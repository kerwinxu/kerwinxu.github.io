{
 "cells": [
  {
   "cell_type": "markdown",
   "id": "a042302b-0d2d-4871-b3c5-b72c215adf7c",
   "metadata": {},
   "source": [
    "# 前言\n",
    "这个是在jupyter中写的，步骤\n",
    "   - 安装官方的python\n",
    "   - pip install pipenv\n",
    "   - 进入某一个文件夹，复制本文件到这个文件夹，打开终端，然后运行 pipenv install jupyter torch torchvision torchaudio matplotlib\n",
    "   - 然后在终端中运行 pipenv run jupyter-lab.exe\n",
    "   - 打开这个文件，然后左边有一个“Table of Contents”（图标是三个点加上三个横线），是章节目录，方便快读的到达相关的章节。\n",
    "\n",
    "我这里用pipenv，好处是库是隔离的。\n",
    "\n",
    "我看了那个[60分钟快速入门 PyTorch](https://zhuanlan.zhihu.com/p/66543791#:~:text=60%E5%88%86%E9%92%9F%E5%BF%AB%E9%80%9F%E5%85%A5%E9%97%A8%20PyTorch%201%201.%20Pytorch%20%E6%98%AF%E4%BB%80%E4%B9%88%20Pytorch%20%E6%98%AF%E4%B8%80%E4%B8%AA%E5%9F%BA%E4%BA%8E,...%208%201.3.2%20Numpy%20%E6%95%B0%E7%BB%84%E8%BD%AC%E6%8D%A2%E4%B8%BA%20Tensor%20...%20%E6%9B%B4%E5%A4%9A%E9%A1%B9%E7%9B%AE) , 文中说翻译自 [DEEP LEARNING WITH PYTORCH: A 60 MINUTE BLITZ](https://pytorch.org/tutorials/beginner/deep_learning_60min_blitz.html),两个版本是不同的，我这里也写一下我的版本吧，这个是根据官方的原版做了大幅的精简。"
   ]
  },
  {
   "cell_type": "markdown",
   "id": "e195d135-b711-42e9-97a1-79b27a792c9d",
   "metadata": {},
   "source": [
    "# tensor\n",
    "tensor是基本的数据类型，类似numpy的N维数组（事实上他们的内存是公用的），参数结果等，都是用这个数据类型来表示的。\n",
    "\n"
   ]
  },
  {
   "cell_type": "markdown",
   "id": "868dfc64-547c-4392-ae1c-e45d376aecd2",
   "metadata": {},
   "source": [
    "## 初始化"
   ]
  },
  {
   "cell_type": "markdown",
   "id": "6be98bed-5ddd-4d1b-93a5-64e3079dbc40",
   "metadata": {},
   "source": [
    "### 用数据初始化\n",
    "这个会自动推断类型"
   ]
  },
  {
   "cell_type": "code",
   "execution_count": 1,
   "id": "2f49afdc-ab49-4a7b-a138-c15f93e94b63",
   "metadata": {},
   "outputs": [
    {
     "data": {
      "text/plain": [
       "tensor([[1, 2],\n",
       "        [3, 4]])"
      ]
     },
     "execution_count": 1,
     "metadata": {},
     "output_type": "execute_result"
    }
   ],
   "source": [
    "import torch\n",
    "data = [[1, 2], [3, 4]]\n",
    "x_data = torch.tensor(data)\n",
    "x_data\n"
   ]
  },
  {
   "cell_type": "markdown",
   "id": "6dc0e103-6c22-4a51-9ad9-0b666f9ecbbd",
   "metadata": {},
   "source": [
    "### 用Numpy的array来初始化\n",
    "他们实际上是公用内存空间的，改变了一个，另一个也改变"
   ]
  },
  {
   "cell_type": "code",
   "execution_count": 2,
   "id": "2ebe1101-7d4c-47b6-9352-ddf395ff3292",
   "metadata": {},
   "outputs": [
    {
     "data": {
      "text/plain": [
       "tensor([[1, 2],\n",
       "        [3, 4]], dtype=torch.int32)"
      ]
     },
     "execution_count": 2,
     "metadata": {},
     "output_type": "execute_result"
    }
   ],
   "source": [
    "import numpy as np\n",
    "np_array = np.array(data)\n",
    "x_np = torch.from_numpy(np_array)\n",
    "x_np"
   ]
  },
  {
   "cell_type": "code",
   "execution_count": 3,
   "id": "04d1b5a5-9cb9-40be-92ce-a8a3a3a6cc7e",
   "metadata": {},
   "outputs": [
    {
     "name": "stdout",
     "output_type": "stream",
     "text": [
      "[[5 2]\n",
      " [3 4]]\n",
      "tensor([[5, 2],\n",
      "        [3, 4]], dtype=torch.int32)\n"
     ]
    }
   ],
   "source": [
    "# 这里修改一下一个，看看另一个是否改变\n",
    "np_array[0,0]=5   # 二维数组的索引是这样子写\n",
    "print(np_array)   # 看看改变结果\n",
    "print(x_np)       # 看看另一个是否同步改变"
   ]
  },
  {
   "cell_type": "markdown",
   "id": "4cc6e9dc-bac2-43d6-b591-88a7c2cc6147",
   "metadata": {},
   "source": [
    "### 用其他的tensor来初始化\n",
    "like表示创建一样维度的。"
   ]
  },
  {
   "cell_type": "code",
   "execution_count": 4,
   "id": "255632ac-d1d0-4b45-aaf4-b5a595e5d294",
   "metadata": {},
   "outputs": [
    {
     "name": "stdout",
     "output_type": "stream",
     "text": [
      "tensor([[1, 1],\n",
      "        [1, 1]])\n",
      "tensor([[0.6806, 0.2035],\n",
      "        [0.1210, 0.5159]])\n"
     ]
    }
   ],
   "source": [
    "x_ones = torch.ones_like(x_data)                      # 数据全是1的，维度同x_data\n",
    "x_rand = torch.rand_like(x_data, dtype=torch.float)   # 数据是随机的，可以指定类型，维度同x_data\n",
    "print(x_ones)\n",
    "print(x_rand)"
   ]
  },
  {
   "cell_type": "markdown",
   "id": "8ec9c665-7162-488f-a63e-f5d56d7de536",
   "metadata": {},
   "source": [
    "### 用随机数或者固定值来初始化"
   ]
  },
  {
   "cell_type": "code",
   "execution_count": 5,
   "id": "645c2efa-e4e1-4c45-96be-a6196ab98bd8",
   "metadata": {},
   "outputs": [
    {
     "name": "stdout",
     "output_type": "stream",
     "text": [
      "tensor([[0.4005, 0.6819, 0.6445],\n",
      "        [0.4910, 0.6562, 0.5698]])\n",
      "tensor([[1., 1., 1.],\n",
      "        [1., 1., 1.]])\n",
      "tensor([[0., 0., 0.],\n",
      "        [0., 0., 0.]])\n"
     ]
    }
   ],
   "source": [
    "shape = (2, 3,)                      # 维度\n",
    "rand_tensor = torch.rand(shape)      # 随机数\n",
    "ones_tensor = torch.ones(shape)      # 全是1\n",
    "zeros_tensor = torch.zeros(shape)    # 全是0\n",
    "print(rand_tensor)\n",
    "print(ones_tensor)\n",
    "print(zeros_tensor)"
   ]
  },
  {
   "cell_type": "markdown",
   "id": "ca3b1019-24fc-4fb7-a40f-32b241aee31e",
   "metadata": {},
   "source": [
    "## tensor的属性"
   ]
  },
  {
   "cell_type": "code",
   "execution_count": 6,
   "id": "7397f769-c7df-4fe0-8701-9ffee23463ec",
   "metadata": {},
   "outputs": [
    {
     "name": "stdout",
     "output_type": "stream",
     "text": [
      "Shape of tensor: torch.Size([3, 4])\n",
      "Datatype of tensor: torch.float32\n",
      "Device tensor is stored on: cpu\n"
     ]
    }
   ],
   "source": [
    "tensor = torch.rand(3, 4)\n",
    "\n",
    "print(f\"Shape of tensor: {tensor.shape}\")              # 维度\n",
    "print(f\"Datatype of tensor: {tensor.dtype}\")           # 数据类型\n",
    "print(f\"Device tensor is stored on: {tensor.device}\")  # cpu还是gpu"
   ]
  },
  {
   "cell_type": "markdown",
   "id": "8d0a55fd-de43-4e5e-9082-3d689d572540",
   "metadata": {},
   "source": [
    "## tensor的操作\n",
    "悲愤，我的笔记本电脑是多年前的，cuda是8.0版本，而现在最新pytorch版本的最低cuda支持版本好像是10（好像更高），但我现在的数据量，用cpu也是可以的，以后如果用gpu，那么用如下的转换"
   ]
  },
  {
   "cell_type": "code",
   "execution_count": 7,
   "id": "3449a5af-9ea2-433b-b520-b3485da81d15",
   "metadata": {},
   "outputs": [],
   "source": [
    "# We move our tensor to the GPU if available\n",
    "if torch.cuda.is_available():\n",
    "  tensor = tensor.to('cuda')                             # 转成cuda了\n",
    "  print(f\"Device tensor is stored on: {tensor.device}\")"
   ]
  },
  {
   "cell_type": "markdown",
   "id": "aa18d566-24c5-4494-ad61-ed48feb7932a",
   "metadata": {},
   "source": [
    "### 索引和切片"
   ]
  },
  {
   "cell_type": "code",
   "execution_count": 8,
   "id": "4b9ef884-5407-49cf-8f5d-f68ff73aec42",
   "metadata": {},
   "outputs": [
    {
     "name": "stdout",
     "output_type": "stream",
     "text": [
      "tensor([[1., 0., 1., 1.],\n",
      "        [1., 0., 1., 1.],\n",
      "        [1., 0., 1., 1.],\n",
      "        [1., 0., 1., 1.]])\n"
     ]
    }
   ],
   "source": [
    "tensor = torch.ones(4, 4)\n",
    "tensor[:,1] = 0            # 冒号左边是行，右边是列，更准确是从左边数，第一个是一维，第二个是2维\n",
    "print(tensor)"
   ]
  },
  {
   "cell_type": "markdown",
   "id": "24893ebd-af8f-4306-b675-bfa6bbd88921",
   "metadata": {},
   "source": [
    "### 题外话，关于numpy的维度\n",
    "简单点，最外边的一层是1维，其次是2维...但dim的参数维度，是从0开始的，也就是减去1.  "
   ]
  },
  {
   "cell_type": "markdown",
   "id": "ea95521b-6f15-40a8-8c30-add694514eb9",
   "metadata": {},
   "source": [
    "### 拼接\n",
    "有两种拼接，cat和stack "
   ]
  },
  {
   "cell_type": "markdown",
   "id": "7a11b443-746b-496e-9d31-6ed12d1bc467",
   "metadata": {},
   "source": [
    "#### cat"
   ]
  },
  {
   "cell_type": "code",
   "execution_count": 9,
   "id": "ff8ff513-198d-4c5a-911c-0c2a7e99cfcf",
   "metadata": {},
   "outputs": [
    {
     "name": "stdout",
     "output_type": "stream",
     "text": [
      "tensor([[1., 0., 1., 1., 1., 0., 1., 1., 1., 0., 1., 1.],\n",
      "        [1., 0., 1., 1., 1., 0., 1., 1., 1., 0., 1., 1.],\n",
      "        [1., 0., 1., 1., 1., 0., 1., 1., 1., 0., 1., 1.],\n",
      "        [1., 0., 1., 1., 1., 0., 1., 1., 1., 0., 1., 1.]])\n",
      "tensor([[1., 0., 1., 1.],\n",
      "        [1., 0., 1., 1.],\n",
      "        [1., 0., 1., 1.],\n",
      "        [1., 0., 1., 1.],\n",
      "        [1., 0., 1., 1.],\n",
      "        [1., 0., 1., 1.],\n",
      "        [1., 0., 1., 1.],\n",
      "        [1., 0., 1., 1.],\n",
      "        [1., 0., 1., 1.],\n",
      "        [1., 0., 1., 1.],\n",
      "        [1., 0., 1., 1.],\n",
      "        [1., 0., 1., 1.]])\n"
     ]
    }
   ],
   "source": [
    "t1 = torch.cat([tensor, tensor, tensor], dim=1)\n",
    "print(t1)\n",
    "t2 = torch.cat([tensor, tensor, tensor], dim=0)\n",
    "print(t2)\n",
    "# 可以看到拼接的地方不同，0表示最外城拼接，而1表示稍微内层拼接。"
   ]
  },
  {
   "cell_type": "markdown",
   "id": "c42b9f8e-1c44-4c83-a41a-dc3f89ff7968",
   "metadata": {},
   "source": [
    "#### stack\n",
    "沿着一个新维度对输入张量序列进行连接。 序列中所有的张量都应该为相同形状。  \n",
    "简单说是将2维连接成3维的，以此类推，而cat，维度是相同的。 "
   ]
  },
  {
   "cell_type": "code",
   "execution_count": 10,
   "id": "76e50d5a-adff-4502-8438-1f4fbc549426",
   "metadata": {},
   "outputs": [
    {
     "name": "stdout",
     "output_type": "stream",
     "text": [
      "0轴拼接： tensor([[[1, 2],\n",
      "         [3, 4]],\n",
      "\n",
      "        [[5, 6],\n",
      "         [7, 8]]])\n",
      "1轴拼接： tensor([[[1, 2],\n",
      "         [5, 6]],\n",
      "\n",
      "        [[3, 4],\n",
      "         [7, 8]]])\n",
      "2轴拼接： tensor([[[1, 5],\n",
      "         [2, 6]],\n",
      "\n",
      "        [[3, 7],\n",
      "         [4, 8]]])\n"
     ]
    }
   ],
   "source": [
    "t1 = torch.tensor([[1,2],[3,4]])     \n",
    "t2 = torch.tensor([[5,6],[7,8]])        \n",
    "# 如下的拼接都是2维变3维  \n",
    "t3 = torch.stack([t1, t2], dim=0)  # 沿着3维的0轴进行拼接，\n",
    "t4 = torch.stack([t1, t2], dim=1)  # 沿着3维的1轴进行拼接\n",
    "t5 = torch.stack([t1, t2], dim=2)  # 沿着3维的2轴进行拼接\n",
    "print('0轴拼接：', t3)\n",
    "print('1轴拼接：', t4)\n",
    "print('2轴拼接：', t5)"
   ]
  },
  {
   "cell_type": "markdown",
   "id": "425a6cbe-3039-4b5f-b9dc-b2d577df6311",
   "metadata": {},
   "source": [
    "#### 乘法"
   ]
  },
  {
   "cell_type": "code",
   "execution_count": 11,
   "id": "1c4f3ab9-1971-4cda-be2a-5a7db1fa7023",
   "metadata": {},
   "outputs": [
    {
     "name": "stdout",
     "output_type": "stream",
     "text": [
      "tensor.mul(tensor) \n",
      " tensor([[1., 0., 1., 1.],\n",
      "        [1., 0., 1., 1.],\n",
      "        [1., 0., 1., 1.],\n",
      "        [1., 0., 1., 1.]]) \n",
      "\n",
      "tensor * tensor \n",
      " tensor([[1., 0., 1., 1.],\n",
      "        [1., 0., 1., 1.],\n",
      "        [1., 0., 1., 1.],\n",
      "        [1., 0., 1., 1.]])\n"
     ]
    }
   ],
   "source": [
    "# This computes the element-wise product\n",
    "print(f\"tensor.mul(tensor) \\n {tensor.mul(tensor)} \\n\")\n",
    "# Alternative syntax:\n",
    "print(f\"tensor * tensor \\n {tensor * tensor}\")"
   ]
  },
  {
   "cell_type": "markdown",
   "id": "5a8e016f-960a-4ddc-86c5-ac9049a7cddc",
   "metadata": {},
   "source": [
    "#### 矩阵乘法"
   ]
  },
  {
   "cell_type": "code",
   "execution_count": 12,
   "id": "bad97f0d-8be7-4693-9c99-d9a6fcad01b9",
   "metadata": {},
   "outputs": [
    {
     "name": "stdout",
     "output_type": "stream",
     "text": [
      "tensor.matmul(tensor.T) \n",
      " tensor([[3., 3., 3., 3.],\n",
      "        [3., 3., 3., 3.],\n",
      "        [3., 3., 3., 3.],\n",
      "        [3., 3., 3., 3.]]) \n",
      "\n",
      "tensor @ tensor.T \n",
      " tensor([[3., 3., 3., 3.],\n",
      "        [3., 3., 3., 3.],\n",
      "        [3., 3., 3., 3.],\n",
      "        [3., 3., 3., 3.]])\n"
     ]
    }
   ],
   "source": [
    "print(f\"tensor.matmul(tensor.T) \\n {tensor.matmul(tensor.T)} \\n\")\n",
    "# Alternative syntax:\n",
    "print(f\"tensor @ tensor.T \\n {tensor @ tensor.T}\")"
   ]
  },
  {
   "cell_type": "markdown",
   "id": "61a39217-7f99-461a-98bb-009c6b286290",
   "metadata": {},
   "source": [
    "#### 加减\n",
    "最方便的还是直接用+，-符号运算"
   ]
  },
  {
   "cell_type": "markdown",
   "id": "dd02dbd0-4c47-4ae5-a8f3-bb0f16019af6",
   "metadata": {},
   "source": [
    "#### 下划线\n",
    "比如\"add_\"，会将结果覆盖自身。"
   ]
  },
  {
   "cell_type": "code",
   "execution_count": 13,
   "id": "453e612f-606c-4622-85da-f52290e68246",
   "metadata": {},
   "outputs": [
    {
     "name": "stdout",
     "output_type": "stream",
     "text": [
      "tensor([[1., 1.],\n",
      "        [1., 1.]])\n",
      "tensor([[2., 2.],\n",
      "        [2., 2.]])\n"
     ]
    }
   ],
   "source": [
    "t1 = torch.ones((2,2))\n",
    "t2 = torch.ones((2,2))\n",
    "print(t1)\n",
    "t1.add_(t1)\n",
    "print(t1)"
   ]
  },
  {
   "cell_type": "markdown",
   "id": "8b4e5821-5d55-4f17-9b3b-7533fcef7519",
   "metadata": {},
   "source": [
    "# autograd 自动求导\n",
    "提供了对tensor的所有运算的微分功能，并且是根据代码的运行方式定义的，每次的迭代值可能是不一样的。"
   ]
  },
  {
   "cell_type": "code",
   "execution_count": 14,
   "id": "042922ec-a569-4c55-8b09-cef0788836c7",
   "metadata": {},
   "outputs": [
    {
     "name": "stdout",
     "output_type": "stream",
     "text": [
      "tensor([True, True])\n",
      "tensor([True, True])\n"
     ]
    }
   ],
   "source": [
    "import torch\n",
    "# 定义2个变量，a和b\n",
    "a = torch.tensor([2., 3.], requires_grad=True)\n",
    "b = torch.tensor([6., 4.], requires_grad=True)\n",
    "# 定义一个运算\n",
    "Q = 3*a**3 - b**2\n",
    "external_grad = torch.tensor([1., 1.])\n",
    "Q.backward(gradient=external_grad, retain_graph=True) # 求导，\n",
    "print(9*a**2 == a.grad)\n",
    "print(-2*b == b.grad)"
   ]
  },
  {
   "cell_type": "markdown",
   "id": "0c6350a4-19cd-42bd-98b3-b9ba5e667616",
   "metadata": {},
   "source": [
    "请注意：  \n",
    "   - gradient表示对什么求导，只有标量可以省略这个参数，而external_grad是向量，矩阵等更得添加这个参数\n",
    "   - retain_graph 指的是保留计算图，PyTorch的计算图在计算backward后，默认会删除计算图，如果想要再次计算，图已经没有了，无从计算。\n",
    "     - 当然，比如每一次重新“Q = 3*a**3 - b**2”，这个计算图会重新建立。就不需要这个参数。\n",
    "     - 计算图，我的理解是，用图的方式展示计算的。"
   ]
  },
  {
   "cell_type": "markdown",
   "id": "c0101046-dde1-446e-b331-e28d9ce32ef4",
   "metadata": {},
   "source": [
    "# 神经网络\n",
    "神经网路是在*torch.nn*包中，torch.nn.Model是模型，torch.nn.functional是相关的操作。  \n",
    "神经网络的一般步骤\n",
    "   - 数据预处理\n",
    "   - 构造模型\n",
    "   - 数据输入到网络\n",
    "   - 根据原有网络的参数得到结果，计算损失。\n",
    "   - 反向传播\n",
    "   - $ weight = weight - learning rate * gradient $，更新网络的参数。"
   ]
  },
  {
   "cell_type": "markdown",
   "id": "e1e6a319-67fd-409f-9261-9baa4ef85e60",
   "metadata": {},
   "source": [
    "# 数据预处理\n",
    "我这里要下载的是Mnist手写数字的，"
   ]
  },
  {
   "cell_type": "code",
   "execution_count": 15,
   "id": "d415cfc4-7a70-49f0-b473-a4897986c2e4",
   "metadata": {},
   "outputs": [
    {
     "name": "stdout",
     "output_type": "stream",
     "text": [
      "Downloading http://yann.lecun.com/exdb/mnist/train-images-idx3-ubyte.gz\n",
      "Downloading http://yann.lecun.com/exdb/mnist/train-images-idx3-ubyte.gz to ./mnist/MNIST\\raw\\train-images-idx3-ubyte.gz\n"
     ]
    },
    {
     "name": "stderr",
     "output_type": "stream",
     "text": [
      "100.0%\n"
     ]
    },
    {
     "name": "stdout",
     "output_type": "stream",
     "text": [
      "Extracting ./mnist/MNIST\\raw\\train-images-idx3-ubyte.gz to ./mnist/MNIST\\raw\n",
      "\n",
      "Downloading http://yann.lecun.com/exdb/mnist/train-labels-idx1-ubyte.gz\n",
      "Downloading http://yann.lecun.com/exdb/mnist/train-labels-idx1-ubyte.gz to ./mnist/MNIST\\raw\\train-labels-idx1-ubyte.gz\n"
     ]
    },
    {
     "name": "stderr",
     "output_type": "stream",
     "text": [
      "100.0%\n"
     ]
    },
    {
     "name": "stdout",
     "output_type": "stream",
     "text": [
      "Extracting ./mnist/MNIST\\raw\\train-labels-idx1-ubyte.gz to ./mnist/MNIST\\raw\n",
      "\n",
      "Downloading http://yann.lecun.com/exdb/mnist/t10k-images-idx3-ubyte.gz\n",
      "Downloading http://yann.lecun.com/exdb/mnist/t10k-images-idx3-ubyte.gz to ./mnist/MNIST\\raw\\t10k-images-idx3-ubyte.gz\n"
     ]
    },
    {
     "name": "stderr",
     "output_type": "stream",
     "text": [
      "100.0%\n"
     ]
    },
    {
     "name": "stdout",
     "output_type": "stream",
     "text": [
      "Extracting ./mnist/MNIST\\raw\\t10k-images-idx3-ubyte.gz to ./mnist/MNIST\\raw\n",
      "\n",
      "Downloading http://yann.lecun.com/exdb/mnist/t10k-labels-idx1-ubyte.gz\n",
      "Downloading http://yann.lecun.com/exdb/mnist/t10k-labels-idx1-ubyte.gz to ./mnist/MNIST\\raw\\t10k-labels-idx1-ubyte.gz\n"
     ]
    },
    {
     "name": "stderr",
     "output_type": "stream",
     "text": [
      "100.0%"
     ]
    },
    {
     "name": "stdout",
     "output_type": "stream",
     "text": [
      "Extracting ./mnist/MNIST\\raw\\t10k-labels-idx1-ubyte.gz to ./mnist/MNIST\\raw\n",
      "\n"
     ]
    },
    {
     "name": "stderr",
     "output_type": "stream",
     "text": [
      "\n"
     ]
    }
   ],
   "source": [
    "import torchvision\n",
    "import torchvision.transforms as transforms\n",
    "\n",
    "\n",
    "DOWNLOAD_MNIST = True  # 是否要下载，如果以前已经下载了，这次就不用下载了。\n",
    "transform = transforms.Compose(       # 转换\n",
    "    [transforms.ToTensor(),           # 转换维度，shape H，W，C ——> C，H，W，且除以255，变成0-1之间。\n",
    "     transforms.Normalize(0.5, 0.5)]) # 正则化，分别是mean,std\n",
    "\n",
    "# 下载训练集和测试集\n",
    "train_data = torchvision.datasets.MNIST(\n",
    "    root='./mnist/',      # 保存的位置\n",
    "    train=True,                 # 训练集\n",
    "    transform=torchvision.transforms.ToTensor(), # 转换维度，shape H，W，C ——> C，H，W，且除以255，变成0-1之间。\n",
    "    download=DOWNLOAD_MNIST\n",
    ")\n",
    "test_data = torchvision.datasets.MNIST(\n",
    "    root='./mnist/',      # 保存的位置\n",
    "    train=False,               # 测试集\n",
    "    transform=torchvision.transforms.ToTensor(), # 转换\n",
    "    download=DOWNLOAD_MNIST\n",
    ")\n"
   ]
  },
  {
   "cell_type": "code",
   "execution_count": 16,
   "id": "9c6c00ad-5fa9-421b-ad87-040c27949d28",
   "metadata": {},
   "outputs": [
    {
     "name": "stdout",
     "output_type": "stream",
     "text": [
      "训练集\n",
      "torch.Size([60000, 28, 28])\n",
      "60000\n",
      "测试集\n",
      "torch.Size([10000, 28, 28])\n",
      "10000\n"
     ]
    },
    {
     "name": "stderr",
     "output_type": "stream",
     "text": [
      "C:\\Users\\kerwin\\.virtualenvs\\学习PyTorch之jupyter-oV4IjTpd\\Lib\\site-packages\\torchvision\\datasets\\mnist.py:75: UserWarning: train_data has been renamed data\n",
      "  warnings.warn(\"train_data has been renamed data\")\n",
      "C:\\Users\\kerwin\\.virtualenvs\\学习PyTorch之jupyter-oV4IjTpd\\Lib\\site-packages\\torchvision\\datasets\\mnist.py:65: UserWarning: train_labels has been renamed targets\n",
      "  warnings.warn(\"train_labels has been renamed targets\")\n",
      "C:\\Users\\kerwin\\.virtualenvs\\学习PyTorch之jupyter-oV4IjTpd\\Lib\\site-packages\\torchvision\\datasets\\mnist.py:80: UserWarning: test_data has been renamed data\n",
      "  warnings.warn(\"test_data has been renamed data\")\n",
      "C:\\Users\\kerwin\\.virtualenvs\\学习PyTorch之jupyter-oV4IjTpd\\Lib\\site-packages\\torchvision\\datasets\\mnist.py:70: UserWarning: test_labels has been renamed targets\n",
      "  warnings.warn(\"test_labels has been renamed targets\")\n"
     ]
    }
   ],
   "source": [
    "# 这里看一下数据是什么样的\n",
    "import matplotlib.pyplot as plt # 绘图的\n",
    "# 首先看看维度，数据和标签\n",
    "# 训练集\n",
    "print('训练集')\n",
    "print(train_data.train_data.size())   # 数据的维度\n",
    "print(train_data.train_labels.size(0)) # 标签的维度\n",
    "# 测试集\n",
    "print('测试集')\n",
    "print(test_data.test_data.size())   # 数据的维度\n",
    "print(test_data.test_labels.size(0)) # 标签的维度"
   ]
  },
  {
   "cell_type": "code",
   "execution_count": 17,
   "id": "89ef9e83-3451-49a8-815e-12b8262ad7ad",
   "metadata": {},
   "outputs": [
    {
     "name": "stdout",
     "output_type": "stream",
     "text": [
      "[[  0   0   0   0   0   0   0   0   0   0   0   0   0   0   0   0   0   0\n",
      "    0   0   0   0   0   0   0   0   0   0]\n",
      " [  0   0   0   0   0   0   0   0   0   0   0   0   0   0   0   0   0   0\n",
      "    0   0   0   0   0   0   0   0   0   0]\n",
      " [  0   0   0   0   0   0   0   0   0   0   0   0   0   0   0   0   0   0\n",
      "    0   0   0   0   0   0   0   0   0   0]\n",
      " [  0   0   0   0   0   0   0   0   0   0   0   0   0   0   0   0   0   0\n",
      "    0   0   0   0   0   0   0   0   0   0]\n",
      " [  0   0   0   0   0   0   0   0   0   0   0   0   0   0   0   0   0   0\n",
      "    0   0   0   0   0   0   0   0   0   0]\n",
      " [  0   0   0   0   0   0   0   0   0   0   0   0   3  18  18  18 126 136\n",
      "  175  26 166 255 247 127   0   0   0   0]\n",
      " [  0   0   0   0   0   0   0   0  30  36  94 154 170 253 253 253 253 253\n",
      "  225 172 253 242 195  64   0   0   0   0]\n",
      " [  0   0   0   0   0   0   0  49 238 253 253 253 253 253 253 253 253 251\n",
      "   93  82  82  56  39   0   0   0   0   0]\n",
      " [  0   0   0   0   0   0   0  18 219 253 253 253 253 253 198 182 247 241\n",
      "    0   0   0   0   0   0   0   0   0   0]\n",
      " [  0   0   0   0   0   0   0   0  80 156 107 253 253 205  11   0  43 154\n",
      "    0   0   0   0   0   0   0   0   0   0]\n",
      " [  0   0   0   0   0   0   0   0   0  14   1 154 253  90   0   0   0   0\n",
      "    0   0   0   0   0   0   0   0   0   0]\n",
      " [  0   0   0   0   0   0   0   0   0   0   0 139 253 190   2   0   0   0\n",
      "    0   0   0   0   0   0   0   0   0   0]\n",
      " [  0   0   0   0   0   0   0   0   0   0   0  11 190 253  70   0   0   0\n",
      "    0   0   0   0   0   0   0   0   0   0]\n",
      " [  0   0   0   0   0   0   0   0   0   0   0   0  35 241 225 160 108   1\n",
      "    0   0   0   0   0   0   0   0   0   0]\n",
      " [  0   0   0   0   0   0   0   0   0   0   0   0   0  81 240 253 253 119\n",
      "   25   0   0   0   0   0   0   0   0   0]\n",
      " [  0   0   0   0   0   0   0   0   0   0   0   0   0   0  45 186 253 253\n",
      "  150  27   0   0   0   0   0   0   0   0]\n",
      " [  0   0   0   0   0   0   0   0   0   0   0   0   0   0   0  16  93 252\n",
      "  253 187   0   0   0   0   0   0   0   0]\n",
      " [  0   0   0   0   0   0   0   0   0   0   0   0   0   0   0   0   0 249\n",
      "  253 249  64   0   0   0   0   0   0   0]\n",
      " [  0   0   0   0   0   0   0   0   0   0   0   0   0   0  46 130 183 253\n",
      "  253 207   2   0   0   0   0   0   0   0]\n",
      " [  0   0   0   0   0   0   0   0   0   0   0   0  39 148 229 253 253 253\n",
      "  250 182   0   0   0   0   0   0   0   0]\n",
      " [  0   0   0   0   0   0   0   0   0   0  24 114 221 253 253 253 253 201\n",
      "   78   0   0   0   0   0   0   0   0   0]\n",
      " [  0   0   0   0   0   0   0   0  23  66 213 253 253 253 253 198  81   2\n",
      "    0   0   0   0   0   0   0   0   0   0]\n",
      " [  0   0   0   0   0   0  18 171 219 253 253 253 253 195  80   9   0   0\n",
      "    0   0   0   0   0   0   0   0   0   0]\n",
      " [  0   0   0   0  55 172 226 253 253 253 253 244 133  11   0   0   0   0\n",
      "    0   0   0   0   0   0   0   0   0   0]\n",
      " [  0   0   0   0 136 253 253 253 212 135 132  16   0   0   0   0   0   0\n",
      "    0   0   0   0   0   0   0   0   0   0]\n",
      " [  0   0   0   0   0   0   0   0   0   0   0   0   0   0   0   0   0   0\n",
      "    0   0   0   0   0   0   0   0   0   0]\n",
      " [  0   0   0   0   0   0   0   0   0   0   0   0   0   0   0   0   0   0\n",
      "    0   0   0   0   0   0   0   0   0   0]\n",
      " [  0   0   0   0   0   0   0   0   0   0   0   0   0   0   0   0   0   0\n",
      "    0   0   0   0   0   0   0   0   0   0]]\n"
     ]
    },
    {
     "data": {
      "image/png": "[encoded data removed]",
      "text/plain": [
       "<Figure size 640x480 with 1 Axes>"
      ]
     },
     "metadata": {},
     "output_type": "display_data"
    }
   ],
   "source": [
    "# 看看其中的数据是什么样的，这个本质上是一个灰色图\n",
    "# 每一个数据是一个28*28的灰色图\n",
    "plt.imshow(train_data.train_data[0].numpy(), cmap='gray')\n",
    "# plt.show() # jupyter中可以不用这个，自动显示\n",
    "print(train_data.train_data[0].numpy())"
   ]
  },
  {
   "cell_type": "code",
   "execution_count": 18,
   "id": "6cf0fca1-234b-4de3-9ea7-731aad5e5005",
   "metadata": {},
   "outputs": [],
   "source": [
    "# 训练集要批量取得数据\n",
    "import torch.utils.data as Data\n",
    "batch_size=50                # pytorch是小批量训练,训练集总共是60000个数据，每个批次10个，那么会训练6000个批次。\n",
    "# 训练集\n",
    "train_loader = Data.DataLoader(\n",
    "    dataset=train_data,      # 数据是这个训练集\n",
    "    batch_size = batch_size, # \n",
    "    shuffle=True             # 是否乱序\n",
    ")\n",
    "# 测试集\n",
    "test_loader = Data.DataLoader(\n",
    "    dataset=train_data,      # 数据是这个训练集\n",
    "    batch_size = batch_size, # \n",
    "    shuffle=True             # 是否乱序\n",
    ")"
   ]
  },
  {
   "cell_type": "markdown",
   "id": "d1302044-c685-4d22-969f-82a44dfa2550",
   "metadata": {},
   "source": [
    "## 构造模型\n",
    "创建一个类，继承自nn.Module，我这里要创建卷积神经网络，卷积->激励->池化。 前置知识  \n",
    "   - nn.Sequential : 中文意思是顺序，序贯，前一个的输出是后一个的输入。\n",
    "   - nn.Conv2d     : 卷积\n",
    "   - nn.ReLU       : 激励函数的一种\n",
    "   - nn.MaxPool2d  : 池化中的最大化池化，\n",
    "   - nn.AvgPool2d  : 池化中的平均池化\n",
    "   - nn.Linear     : 全连接层\n",
    "   - 卷积层输出尺寸计算 : $ (图像尺寸-卷积核尺寸 + 2*填充值)/步长+1 $\n",
    "   - 池化层输出尺寸计算 : $ (图像尺寸-池化窗尺寸 + 2*填充值)/步长+1 $\n",
    "   - view : 重构张量维度，-1表示自动计算"
   ]
  },
  {
   "cell_type": "code",
   "execution_count": 19,
   "id": "bf17ee97-b81d-4214-b490-72784db8376b",
   "metadata": {},
   "outputs": [
    {
     "name": "stdout",
     "output_type": "stream",
     "text": [
      "CNN(\n",
      "  (conv1): Sequential(\n",
      "    (0): Conv2d(1, 16, kernel_size=(5, 5), stride=(1, 1), padding=(2, 2))\n",
      "    (1): ReLU()\n",
      "    (2): MaxPool2d(kernel_size=2, stride=2, padding=0, dilation=1, ceil_mode=False)\n",
      "  )\n",
      "  (conv2): Sequential(\n",
      "    (0): Conv2d(16, 32, kernel_size=(5, 5), stride=(1, 1), padding=(2, 2))\n",
      "    (1): ReLU()\n",
      "    (2): MaxPool2d(kernel_size=2, stride=2, padding=0, dilation=1, ceil_mode=False)\n",
      "  )\n",
      "  (out): Linear(in_features=1568, out_features=10, bias=True)\n",
      ")\n"
     ]
    }
   ],
   "source": [
    "import torch.nn as nn\n",
    "\n",
    "class CNN(nn.Module):\n",
    "    # CNN网络，两个卷积+一个全连接层\n",
    "    def __init__(self):\n",
    "        super(CNN,self).__init__()\n",
    "        # 先两个卷积\n",
    "        self.conv1 = nn.Sequential(      # 输入的尺寸是1*28*28，最前面的1是channel层（通道），28*28是图像的。\n",
    "            nn.Conv2d(                   # 二维卷积\n",
    "                in_channels=1,           # 灰度图，单通道，所以是1\n",
    "                out_channels=16,         # 输出16通道\n",
    "                kernel_size=5,           # 卷积核\n",
    "                stride=1,                # 步长，\n",
    "                padding=2                # 填充值\n",
    "            ),                           # 这个卷积的输出尺寸是=(28-5+2*2)/1+1=28，这个尺寸不变。16*28*28\n",
    "            nn.ReLU(),                   # 激励函数\n",
    "            nn.MaxPool2d(kernel_size=2)  # 池化层的输出尺寸(28-2+2*0)/2+1=14，默认的步长是卷积核大小 ,输出尺寸是16*14*14\n",
    "        )\n",
    "        self.conv2 = nn.Sequential(      # 输入尺寸是上一个的输出，\n",
    "            nn.Conv2d(16,32,5,1,2),      # 输出尺寸=(14-5+2*2)/1+1=14,   32*14*14\n",
    "            nn.ReLU(),                   # 激励函数\n",
    "            nn.MaxPool2d(kernel_size=2)  # (14-2+2*0)/2+1=7   ,32*7*7\n",
    "        )\n",
    "        self.out = nn.Linear(32*7*7, 10) # ，全连接层，会将前面的32*7*7展平\n",
    "\n",
    "    def forward(self, x):\n",
    "        # 前向传播\n",
    "        x = self.conv1(x)           # 第一次卷积\n",
    "        x = self.conv2(x)           # 第二次卷积\n",
    "        x = x.view(x.size(0), -1 )  # 重建维度，第一维是样本数量，第二个是自动计算，\n",
    "        out = self.out(x)           # 全连接层，\n",
    "        return out                  # 这个全连接层最后的输出是10，10个数字嘛\n",
    "\n",
    "# 看看结果\n",
    "cnn = CNN()\n",
    "print(cnn)"
   ]
  },
  {
   "cell_type": "markdown",
   "id": "74a0f7c9-4073-4f68-8094-7706d9a22ac2",
   "metadata": {},
   "source": [
    "# 训练\n",
    "前面更新网路参数是 $ weight = weight - learning rate * gradient $，这里用优化器来做。"
   ]
  },
  {
   "cell_type": "code",
   "execution_count": 20,
   "id": "deb1d606-59c9-468c-b7e4-da6cb27d17c1",
   "metadata": {},
   "outputs": [
    {
     "name": "stdout",
     "output_type": "stream",
     "text": [
      "结果标签的尺寸 torch.Size([50])\n",
      "结果标签的内容 tensor([8, 8, 6, 6, 8, 6, 3, 7, 8, 0, 8, 2, 6, 9, 7, 1, 8, 2, 2, 6, 7, 5, 1, 2,\n",
      "        5, 4, 5, 2, 0, 2, 8, 3, 6, 8, 5, 8, 7, 5, 0, 8, 3, 6, 1, 2, 7, 4, 1, 3,\n",
      "        9, 3])\n",
      "计算结果标签的尺寸 torch.Size([50, 10])\n",
      "结果看看第一个 tensor([-0.0441,  0.1166, -0.0025,  0.0037, -0.0670, -0.0080, -0.0397,  0.0594,\n",
      "        -0.0768,  0.0118], grad_fn=<SelectBackward0>)\n",
      "取最大值后的结果 torch.return_types.max(\n",
      "values=tensor([0.1166, 0.0870, 0.1055, 0.1113, 0.0964, 0.1146, 0.1029, 0.0883, 0.0732,\n",
      "        0.1066, 0.0901, 0.0842, 0.0738, 0.0788, 0.0856, 0.0804, 0.0914, 0.0999,\n",
      "        0.1142, 0.0983, 0.0739, 0.0814, 0.1106, 0.0958, 0.0867, 0.1220, 0.1143,\n",
      "        0.1152, 0.1029, 0.0717, 0.1008, 0.1106, 0.0996, 0.0714, 0.1295, 0.0855,\n",
      "        0.0841, 0.0956, 0.1445, 0.0799, 0.1477, 0.1017, 0.1011, 0.1191, 0.1286,\n",
      "        0.0599, 0.0768, 0.1327, 0.0794, 0.0658]),\n",
      "indices=tensor([1, 1, 2, 2, 7, 2, 1, 2, 1, 1, 1, 1, 2, 2, 9, 2, 9, 7, 1, 2, 2, 1, 1, 7,\n",
      "        1, 2, 1, 1, 1, 2, 7, 2, 1, 2, 2, 2, 7, 1, 1, 7, 1, 1, 2, 2, 2, 1, 1, 1,\n",
      "        9, 2]))\n",
      "可以看到output[0]是最大值，而output[1]是这个结果的索引,等同于数字\n"
     ]
    }
   ],
   "source": [
    "for step, (b_x, b_y) in enumerate(train_loader):\n",
    "    print('结果标签的尺寸',b_y.size())  # 结果标签的尺寸\n",
    "    print('结果标签的内容', b_y)         # 结果标签的内容\n",
    "    output = cnn(b_x)\n",
    "    print('计算结果标签的尺寸', output.size()) # 计算出的标签的尺寸\n",
    "    print('结果看看第一个', output[0])        # 计算出的标签内容\n",
    "    output2 = torch.max(output.data,1) # \n",
    "    print('取最大值后的结果',output2)\n",
    "    print('可以看到output[0]是最大值，而output[1]是这个结果的索引,等同于数字')\n",
    "    break # 只是运行一次，我看看相关的内容的"
   ]
  },
  {
   "cell_type": "code",
   "execution_count": 21,
   "id": "651ce058-ed66-4d93-8c01-d25cefc47e7f",
   "metadata": {},
   "outputs": [
    {
     "name": "stdout",
     "output_type": "stream",
     "text": [
      "Epoch : 0 | train loss : 2.314819574356079 | size: torch.Size([50, 1, 28, 28])\n",
      "Epoch : 0 | train loss : 0.3925780951976776 | size: torch.Size([50, 1, 28, 28])\n",
      "Epoch : 0 | train loss : 0.30686694383621216 | size: torch.Size([50, 1, 28, 28])\n",
      "Epoch : 0 | train loss : 0.30315470695495605 | size: torch.Size([50, 1, 28, 28])\n",
      "Epoch : 0 | train loss : 0.09859395772218704 | size: torch.Size([50, 1, 28, 28])\n",
      "Epoch : 0 | train loss : 0.09164541959762573 | size: torch.Size([50, 1, 28, 28])\n",
      "Epoch : 0 | train loss : 0.04324603080749512 | size: torch.Size([50, 1, 28, 28])\n",
      "Epoch : 0 | train loss : 0.10685678571462631 | size: torch.Size([50, 1, 28, 28])\n",
      "Epoch : 0 | train loss : 0.035537395626306534 | size: torch.Size([50, 1, 28, 28])\n",
      "Epoch : 0 | train loss : 0.037453435361385345 | size: torch.Size([50, 1, 28, 28])\n",
      "Epoch : 0 | train loss : 0.02328016236424446 | size: torch.Size([50, 1, 28, 28])\n",
      "Epoch : 0 | train loss : 0.02439306490123272 | size: torch.Size([50, 1, 28, 28])\n"
     ]
    }
   ],
   "source": [
    "EPOCH = 1 # 训练多少次\n",
    "LR=0.001  # 学习率\n",
    "optimizer = torch.optim.Adam(cnn.parameters(), lr=LR)  # 优化器，可以更新网络参数的\n",
    "loss_func = nn.CrossEntropyLoss()                      # 交叉熵损失函数。这个标签是种类，跟数字大小是无关的。\n",
    "\n",
    "for epoch in range(EPOCH):\n",
    "    for step, (b_x, b_y) in enumerate(train_loader):\n",
    "        # enumerate，内置函数，可以同时得到索引和值，(b_x, b_y)是每一次的值，就是x和y\n",
    "        output = cnn(b_x)             # 计算值\n",
    "        loss = loss_func(output, b_y) # 计算值和期望值之间的差是损失函数\n",
    "        optimizer.zero_grad()         # 梯度归零\n",
    "        loss.backward()               # 反向传播\n",
    "        optimizer.step()              # 优化器更新参数\n",
    "        if step % 100 == 0:           # 每xx次输出一下结果\n",
    "            print(f'Epoch : {epoch} | train loss : {loss.data.numpy()} | size: {b_x.size()}')"
   ]
  },
  {
   "cell_type": "markdown",
   "id": "bcb9af5d-65e8-4f6f-b0a8-7607eca24dbb",
   "metadata": {},
   "source": [
    "# 测试"
   ]
  },
  {
   "cell_type": "code",
   "execution_count": 22,
   "id": "a4fc461a-3cd9-4311-aa45-287faa7c4143",
   "metadata": {},
   "outputs": [
    {
     "name": "stdout",
     "output_type": "stream",
     "text": [
      "正确率:98.0%\n",
      "正确率:97.54455445544555%\n",
      "正确率:97.61194029850746%\n",
      "正确率:97.5813953488372%\n",
      "正确率:97.60099750623442%\n",
      "正确率:97.55688622754491%\n",
      "正确率:97.60399334442596%\n",
      "正确率:97.61768901569187%\n",
      "正确率:97.64544319600499%\n",
      "正确率:97.61820199778025%\n",
      "正确率:97.61838161838162%\n",
      "正确率:97.60581289736604%\n"
     ]
    }
   ],
   "source": [
    "correct = 0 # 正确的数量\n",
    "for step, (b_x, b_y) in enumerate(train_loader):\n",
    "    # 这里不需要更新参数\n",
    "    with torch.no_grad():\n",
    "        output = cnn(b_x)                            # 计算值\n",
    "        output2 = torch.max(output.data,1)[1]        # 这个才是计算出的结果\n",
    "        correct += (output2 == b_y).sum().item()     # output2 == b_y得到一个布尔数组(只有相同和不相同)，sum是计数\n",
    "        if step % 100 == 0:                          # 每xx次就打印\n",
    "            print(f'正确率:{100.0*correct/((step+1)*batch_size)}%')\n",
    "        "
   ]
  },
  {
   "cell_type": "markdown",
   "id": "5f7db16f-3239-4c1d-815d-3f4cba4ab605",
   "metadata": {},
   "source": [
    "到这里应该可以使用torch了吧"
   ]
  },
  {
   "cell_type": "markdown",
   "id": "c4197493-5343-42a1-92d0-886280ffb238",
   "metadata": {},
   "source": [
    "# 选读\n",
    "\n",
    "## 模型\n",
    "如下是可以用在模型中的\n",
    "   - nn.Sequential : 一个容器，按顺序的，要求前一个的输出的尺寸跟后一个输入的尺寸相同。\n",
    "   - nn.Conv1d     : 一维卷积，用于文本数据，只对宽度卷积，\n",
    "   - nn.Conv2d     : 二维卷积，用于图像数据。\n",
    "   - nn.Conv3d     : 三维卷积，用于视频数据。\n",
    "   - nn.Linear     : 全连接，\n",
    "   - nn.RNN        : 简单循环神经网络，网络的输出保存在一个记忆单元中，这个记忆单元和下一次的输入一起进入神经网络中。\n",
    "   - nn.LSTM       : 长短时记忆网络，跟RNN的区别是，RNN只能短期依赖，而LSTM可以长期依赖。\n",
    "   - nn.GRU        ：门控循环记忆网络，跟LSTM的区别是，不额外记忆状态，而是将记忆状态一起向后传递。\n",
    "\n",
    "## 数据预处理\n",
    "   - transform.ToTensor()            : 维度变换shape H，W，C ——> C，H，W，且将所有数除以255，将数据归一化到【0，1】\n",
    "   - transforms.Normalize(mean,std)  : 正则化， $x=(x-mean)/std$ , 转成均值为0，标准差为1的。\n",
    "\n",
    "## tensor的维度处理\n",
    "   - view          : 重新设置维度\n",
    "   - permute       : 维度更改顺序\n",
    "\n",
    "## 损失函数\n",
    "\n",
    "|名称|功能|擅长|备注|\n",
    "|--|--|--|--|\n",
    "|L1Loss|(L1损失)绝对值误差|回归任务||\n",
    "|MSELoss(L2Loss)|(L2损失)均方误差|回归任务||\n",
    "|SooothL1Loss|平滑L1损失|回归任务|L2Loss和L1Loss的结合|\n",
    "|NLLLoss|负对数似然损失|分类任务||\n",
    "|NLLLoss2D|负对数似然损失|分类任务|同上，一般用在图像上|\n",
    "|CrossEntropyLoss|交叉熵|分类任务|是由nn.LogSoftmax()和nn.NLLLoss()组成|\n",
    "|BCELoss||二分类任务|只适合二分类任务|\n",
    "|BCEWithLogitsLoss||分类任务|Sigmoid和BCELoss合成一步|\n",
    "|Focal Loss||二分类任务|只做二分类任务，解决难易样本数量不平衡|\n",
    "|GHM Loss||分类任务|是Focal Loss的升级|\n",
    "|MarginRankingLoss|计算2个向量之间的相似度|||\n",
    "|MultiLabelMarginLoss|多标签分类|分类任务|一个样本可以同时有多个分类|\n",
    "|SoftMarginLoss||二分类||\n",
    "\n"
   ]
  },
  {
   "cell_type": "markdown",
   "id": "f0e82753-ed68-4e02-87f3-30c9dabfa3cb",
   "metadata": {},
   "source": [
    "# 引用\n",
    "   - [60分钟快速入门 PyTorch](https://zhuanlan.zhihu.com/p/66543791#:~:text=60%E5%88%86%E9%92%9F%E5%BF%AB%E9%80%9F%E5%85%A5%E9%97%A8%20PyTorch%201%201.%20Pytorch%20%E6%98%AF%E4%BB%80%E4%B9%88%20Pytorch%20%E6%98%AF%E4%B8%80%E4%B8%AA%E5%9F%BA%E4%BA%8E,...%208%201.3.2%20Numpy%20%E6%95%B0%E7%BB%84%E8%BD%AC%E6%8D%A2%E4%B8%BA%20Tensor%20...%20%E6%9B%B4%E5%A4%9A%E9%A1%B9%E7%9B%AE)\n",
    "   - [DEEP LEARNING WITH PYTORCH: A 60 MINUTE BLITZ](https://pytorch.org/tutorials/beginner/deep_learning_60min_blitz.html)\n",
    "   - [pytorch中归一化transforms.Normalize的真正计算过程](https://zhuanlan.zhihu.com/p/414242338)\n",
    "   - [PyTorch 学习笔记（六）：PyTorch的十八个损失函数](https://zhuanlan.zhihu.com/p/61379965)"
   ]
  },
  {
   "cell_type": "code",
   "execution_count": null,
   "id": "2a4e8fc2-dc5f-4a83-8e61-8742b286285a",
   "metadata": {},
   "outputs": [],
   "source": []
  }
 ],
 "metadata": {
  "kernelspec": {
   "display_name": "Python 3 (ipykernel)",
   "language": "python",
   "name": "python3"
  },
  "language_info": {
   "codemirror_mode": {
    "name": "ipython",
    "version": 3
   },
   "file_extension": ".py",
   "mimetype": "text/x-python",
   "name": "python",
   "nbconvert_exporter": "python",
   "pygments_lexer": "ipython3",
   "version": "3.11.5"
  }
 },
 "nbformat": 4,
 "nbformat_minor": 5
}
